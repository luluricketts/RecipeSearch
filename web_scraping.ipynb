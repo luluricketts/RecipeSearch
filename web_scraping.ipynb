{
 "cells": [
  {
   "cell_type": "markdown",
   "metadata": {},
   "source": [
    "# Recipe Search\n",
    "\n",
    "Proposed goal here is to create an API containing recipes, and be able to query it using ingredients. To get the data to create the API, I will be scraping content from websites that host recipes"
   ]
  },
  {
   "cell_type": "code",
   "execution_count": 130,
   "metadata": {},
   "outputs": [],
   "source": [
    "import requests\n",
    "from bs4 import BeautifulSoup\n",
    "import json\n",
    "import re"
   ]
  },
  {
   "cell_type": "markdown",
   "metadata": {},
   "source": [
    "### AllRecipes"
   ]
  },
  {
   "cell_type": "code",
   "execution_count": 43,
   "metadata": {},
   "outputs": [
    {
     "data": {
      "text/plain": [
       "['https://www.allrecipes.com/recipes/78/breakfast-and-brunch/',\n",
       " 'https://www.allrecipes.com/recipes/17561/lunch/',\n",
       " 'https://www.allrecipes.com/recipes/17562/dinner/',\n",
       " 'https://www.allrecipes.com/recipes/76/appetizers-and-snacks/',\n",
       " 'https://www.allrecipes.com/recipes/156/bread/',\n",
       " 'https://www.allrecipes.com/recipes/79/desserts/',\n",
       " 'https://www.allrecipes.com/recipes/77/drinks/',\n",
       " 'https://www.allrecipes.com/recipes/77/drinks/',\n",
       " 'https://www.allrecipes.com/recipes/96/salad/',\n",
       " 'https://www.allrecipes.com/recipes/81/side-dish/',\n",
       " 'https://www.allrecipes.com/recipes/94/soups-stews-and-chili/',\n",
       " 'https://www.allrecipes.com/recipes/1642/everyday-cooking/',\n",
       " 'https://www.allrecipes.com/recipes/84/healthy-recipes/',\n",
       " 'https://www.allrecipes.com/recipes/85/holidays-and-events/',\n",
       " 'https://www.allrecipes.com/recipes/86/world-cuisine/']"
      ]
     },
     "execution_count": 43,
     "metadata": {},
     "output_type": "execute_result"
    }
   ],
   "source": [
    "# get list of subcategories (brunch, lunch, dinner, etc)\n",
    "base_url = 'https://www.allrecipes.com'\n",
    "\n",
    "html = requests.get(base_url)\n",
    "soup = BeautifulSoup(html.text, 'html.parser')\n",
    "\n",
    "script_content = json.loads(soup.find('script', type='application/ld+json').text)\n",
    "urls = script_content[1]['url'][0][:15]\n",
    "urls"
   ]
  },
  {
   "cell_type": "code",
   "execution_count": 83,
   "metadata": {},
   "outputs": [],
   "source": [
    "# going through each subcategory to get the sub-sub-categories\n",
    "\n",
    "def get_subcategories_urls(url):\n",
    "    \"\"\"\n",
    "    Function to get the urls of the subcategories\n",
    "    \n",
    "    Input\n",
    "    -----\n",
    "    url - url of a category (brunch, drinks, etc)\n",
    "    \n",
    "    Returns\n",
    "    --------\n",
    "    subcats_urls - a list of urls of the subcategories\n",
    "    \"\"\"\n",
    "    \n",
    "    html = requests.get(url)\n",
    "    soup = BeautifulSoup(html.text, 'html.parser')\n",
    "\n",
    "    subcats = soup.find('div', class_='recipeCarousel').find_all('a', href=True)\n",
    "    subcats_urls = [item['href'] for item in subcats if item['href'] != '#']\n",
    "    \n",
    "    return subcats_urls"
   ]
  },
  {
   "cell_type": "code",
   "execution_count": 86,
   "metadata": {
    "scrolled": false
   },
   "outputs": [],
   "source": [
    "brbr_subs = get_subcategories_urls(urls[0])"
   ]
  },
  {
   "cell_type": "code",
   "execution_count": 92,
   "metadata": {},
   "outputs": [
    {
     "data": {
      "text/plain": [
       "'https://www.allrecipes.com/recipes/151/breakfast-and-brunch/pancakes/'"
      ]
     },
     "execution_count": 92,
     "metadata": {},
     "output_type": "execute_result"
    }
   ],
   "source": [
    "url = brbr_subs[0]\n",
    "url"
   ]
  },
  {
   "cell_type": "code",
   "execution_count": 90,
   "metadata": {},
   "outputs": [],
   "source": [
    "html = requests.get(url)\n",
    "soup = BeautifulSoup(html.text, 'html.parser')"
   ]
  },
  {
   "cell_type": "code",
   "execution_count": 112,
   "metadata": {
    "scrolled": false
   },
   "outputs": [
    {
     "name": "stdout",
     "output_type": "stream",
     "text": [
      "https://www.allrecipes.com/recipe/278180/greek-yogurt-blueberry-lemon-pancakes/\n",
      "https://www.allrecipes.com/recipe/261190/matcha-pancakes/\n",
      "https://www.allrecipes.com/recipe/20520/big-germans/\n",
      "https://www.allrecipes.com/recipe/260554/hearty-country-hot-cakes/\n",
      "https://www.allrecipes.com/recipe/45145/blue-cornmeal-pancakes/\n",
      "https://www.allrecipes.com/recipe/234087/whole-wheat-pancakes-from-scratch/\n",
      "https://www.allrecipes.com/recipe/282426/crispy-scallion-pancakes/\n",
      "https://www.allrecipes.com/recipe/256738/low-carb-pancakes-or-crepes/\n",
      "https://www.allrecipes.com/recipe/21014/good-old-fashioned-pancakes/\n",
      "https://www.allrecipes.com/recipe/264561/scottish-oatcakes/\n",
      "https://www.allrecipes.com/recipe/269272/sourdough-and-banana-pancakes/\n",
      "https://www.allrecipes.com/recipe/255515/almond-flour-paleo-pancakes/\n"
     ]
    }
   ],
   "source": [
    "content = soup.find_all('div', class_='category-page-list-content')\n",
    "first = content[0].find_all('a')\n",
    "for i in range(0,len(first),3):\n",
    "    print(first[i]['href'])"
   ]
  },
  {
   "cell_type": "code",
   "execution_count": 113,
   "metadata": {},
   "outputs": [
    {
     "name": "stdout",
     "output_type": "stream",
     "text": [
      "https://www.allrecipes.com/recipe/260542/fluffy-flapjack-pancakes/\n",
      "https://www.allrecipes.com/recipe/45396/easy-pancakes/\n",
      "https://www.allrecipes.com/recipe/20334/banana-pancakes-i/\n",
      "https://www.allrecipes.com/recipe/162760/fluffy-pancakes/\n",
      "https://www.allrecipes.com/recipe/24530/buttermilk-pancakes-ii/\n",
      "https://www.allrecipes.com/recipe/263880/bacon-okonomiyaki/\n",
      "https://www.allrecipes.com/recipe/234702/quick-almond-flour-pancakes/\n",
      "https://www.allrecipes.com/recipe/20177/todds-famous-blueberry-pancakes/\n",
      "https://www.allrecipes.com/recipe/246952/authentic-swedish-pancakes/\n",
      "https://www.allrecipes.com/recipe/191885/vegan-pancakes/\n",
      "https://www.allrecipes.com/recipe/17036/pumpkin-pancakes/\n",
      "https://www.allrecipes.com/recipe/220415/old-fashioned-pancakes/\n",
      "https://www.allrecipes.com/recipe/36900/german-pancakes-ii/\n",
      "https://www.allrecipes.com/recipe/216755/extra-yummy-fluffy-pancakes/\n",
      "https://www.allrecipes.com/recipe/241553/buckwheat-pancakes/\n",
      "https://www.allrecipes.com/recipe/23900/german-apple-pancake/\n",
      "https://www.allrecipes.com/recipe/203229/moms-buttermilk-pancakes/\n",
      "https://www.allrecipes.com/recipe/279754/chef-johns-blueberry-dutch-baby/\n",
      "https://www.allrecipes.com/recipe/236165/fluffy-and-delicious-pancakes/\n",
      "https://www.allrecipes.com/recipe/23898/dutch-babies-ii/\n",
      "https://www.allrecipes.com/recipe/282752/copycat-milk-n-cookies-pancakes/\n",
      "https://www.allrecipes.com/recipe/231278/baked-pancakes/\n",
      "https://www.allrecipes.com/recipe/187567/cottage-cheese-pancakes/\n",
      "https://www.allrecipes.com/recipe/166601/whole-wheat-oatmeal-and-banana-pancakes/\n"
     ]
    }
   ],
   "source": [
    "after = content[1].find_all('a')\n",
    "for i in range(0,len(after),3):\n",
    "    print(after[i]['href'])"
   ]
  },
  {
   "cell_type": "code",
   "execution_count": 120,
   "metadata": {},
   "outputs": [
    {
     "data": {
      "text/plain": [
       "[<a class=\"category-page-list-related-load-more-button manual-link-behavior\" href=\"https://www.allrecipes.com/recipes/151/breakfast-and-brunch/pancakes/?page=2\" id=\"category-page-list-related-load-more-button\">\n",
       "                     Load More\n",
       "                   </a>]"
      ]
     },
     "execution_count": 120,
     "metadata": {},
     "output_type": "execute_result"
    }
   ],
   "source": [
    "load_more = content[1].find_all('a', class_='category-page-list-related-load-more-button')\n",
    "if len(load_more) == 1:\n",
    "    # go to next page"
   ]
  },
  {
   "cell_type": "code",
   "execution_count": 198,
   "metadata": {
    "scrolled": false
   },
   "outputs": [
    {
     "name": "stdout",
     "output_type": "stream",
     "text": [
      "1 ½ cups all-purpose flour\n",
      "2 tablespoons baking powder\n",
      "1 tablespoon white sugar\n",
      "¼ teaspoon salt\n",
      "1 cup vanilla-flavored almond milk\n",
      "½ cup low-fat vanilla Greek yogurt (such as Cabot®)\n",
      "1 large egg, lightly beaten\n",
      "1  lemon, zested and juiced\n",
      "1 teaspoon almond extract\n",
      "1 tablespoon unsalted butter, melted\n",
      "1 cup blueberries\n"
     ]
    }
   ],
   "source": [
    "# function to get a json (dict) object from a recipe page, these will be stored in a list containing all json objs\n",
    "page_url = 'https://www.allrecipes.com/recipe/278180/greek-yogurt-blueberry-lemon-pancakes/'\n",
    "\n",
    "json_dict = dict()\n",
    "\n",
    "html = requests.get(page_url)\n",
    "soup = BeautifulSoup(html.text, 'html.parser')\n",
    "\n",
    "# general info\n",
    "json_dict['title'] = soup.find('h1', class_='headline').text\n",
    "json_dict['rating'] = re.split(':', soup.find('span', class_='review-star-text').text)[1].strip()\n",
    "json_dict['author'] = soup.find('a', class_='author-name').text\n",
    "json_dict['url'] = page_url\n",
    "json_dict['source'] = 'allrecipes'\n",
    "\n",
    "# time and serving info\n",
    "meta = dict()\n",
    "for m in soup.find_all('div', class_='recipe-meta-item'):\n",
    "    meta[m.find('div', class_='recipe-meta-item-header').text.lower().strip()[:-1]] = \\\n",
    "        m.find('div', class_='recipe-meta-item-body').text.strip()\n",
    "json_dict['time_servings'] = meta\n",
    "\n",
    "# nutritional info\n",
    "nutrition = dict()\n",
    "info = soup.find('div', class_='partial recipe-nutrition-section').find('div', class_='section-body').text.strip()\n",
    "info = re.split('\\n', info)[:-1][0].split(';')\n",
    "info[-1] = info[-1][:-1]\n",
    "nutrition['calories'] = info[0].split()[0]\n",
    "for i in info[1:]:\n",
    "    i = i.split()\n",
    "    nutrition[i[0].strip()] = i[1]\n",
    "json_dict['nutrition_per_serving'] = nutrition\n",
    "\n",
    "# ingredients\n",
    "ingredients = dict()\n",
    "for item in soup.find('fieldset', class_='ingredients-section__fieldset').find_all('span', class_='ingredients-item-name'):\n",
    "    print(item.text.strip())"
   ]
  },
  {
   "cell_type": "code",
   "execution_count": 197,
   "metadata": {},
   "outputs": [
    {
     "data": {
      "text/plain": [
       "[<span class=\"ingredients-item-name\">\n",
       "                                                 1 ½ cups all-purpose flour \n",
       "                                             </span>,\n",
       " <span class=\"ingredients-item-name\">\n",
       "                                                 2 tablespoons baking powder \n",
       "                                             </span>,\n",
       " <span class=\"ingredients-item-name\">\n",
       "                                                 1 tablespoon white sugar \n",
       "                                             </span>,\n",
       " <span class=\"ingredients-item-name\">\n",
       "                                                 ¼ teaspoon salt \n",
       "                                             </span>,\n",
       " <span class=\"ingredients-item-name\">\n",
       "                                                 1 cup vanilla-flavored almond milk \n",
       "                                             </span>,\n",
       " <span class=\"ingredients-item-name\">\n",
       "                                                 ½ cup low-fat vanilla Greek yogurt (such as Cabot®) \n",
       "                                             </span>,\n",
       " <span class=\"ingredients-item-name\">\n",
       "                                                 1 large egg, lightly beaten \n",
       "                                             </span>,\n",
       " <span class=\"ingredients-item-name\">\n",
       "                                                 1  lemon, zested and juiced \n",
       "                                             </span>,\n",
       " <span class=\"ingredients-item-name\">\n",
       "                                                 1 teaspoon almond extract \n",
       "                                             </span>,\n",
       " <span class=\"ingredients-item-name\">\n",
       "                                                 1 tablespoon unsalted butter, melted \n",
       "                                             </span>,\n",
       " <span class=\"ingredients-item-name\">\n",
       "                                                 1 cup blueberries \n",
       "                                             </span>]"
      ]
     },
     "execution_count": 197,
     "metadata": {},
     "output_type": "execute_result"
    }
   ],
   "source": [
    "# need to parse ingredients list which may be an annoying problem.. if this doesn't work i may use NLP\n"
   ]
  },
  {
   "cell_type": "code",
   "execution_count": null,
   "metadata": {},
   "outputs": [],
   "source": []
  }
 ],
 "metadata": {
  "kernelspec": {
   "display_name": "Python 3",
   "language": "python",
   "name": "python3"
  },
  "language_info": {
   "codemirror_mode": {
    "name": "ipython",
    "version": 3
   },
   "file_extension": ".py",
   "mimetype": "text/x-python",
   "name": "python",
   "nbconvert_exporter": "python",
   "pygments_lexer": "ipython3",
   "version": "3.7.6"
  }
 },
 "nbformat": 4,
 "nbformat_minor": 4
}
